{
 "cells": [
  {
   "cell_type": "markdown",
   "id": "bfd7a215",
   "metadata": {},
   "source": [
    "# Plotting contour over map using cartopy"
   ]
  },
  {
   "cell_type": "markdown",
   "id": "4ec39102",
   "metadata": {},
   "source": [
    "#######PYTHON CODE FOR IMD PREPARED BY LEKSHMI S#############"
   ]
  },
  {
   "cell_type": "markdown",
   "id": "065b2571",
   "metadata": {},
   "source": [
    "########## https://doi.org/10.5281/zenodo.5674826 ############"
   ]
  },
  {
   "cell_type": "code",
   "execution_count": 1,
   "id": "bac5655e",
   "metadata": {},
   "outputs": [],
   "source": [
    "###########Import necessary modules##########################\n",
    "import netCDF4 as nc\n",
    "import numpy as np\n",
    "import matplotlib.pyplot as plt\n",
    "import datetime as dt\n",
    "import cartopy\n",
    "import cartopy.crs as ccrs\n",
    "import cartopy.feature as cfeature\n",
    "from cartopy.mpl.gridliner import LONGITUDE_FORMATTER, LATITUDE_FORMATTER\n"
   ]
  },
  {
   "cell_type": "code",
   "execution_count": 2,
   "id": "46df806d",
   "metadata": {},
   "outputs": [],
   "source": [
    "############ File to be read ####################\n",
    "file_name ='/mnt/d/DATA/ERA5/Wind/ERA5_Wind_2019.nc'\n"
   ]
  },
  {
   "cell_type": "code",
   "execution_count": 3,
   "id": "081ddab1",
   "metadata": {},
   "outputs": [
    {
     "name": "stdout",
     "output_type": "stream",
     "text": [
      "<class 'netCDF4._netCDF4.Dataset'>\n",
      "root group (NETCDF3_64BIT data model, file format NETCDF3):\n",
      "    Conventions: CF-1.6\n",
      "    history: 2021-10-22 07:07:25 GMT by grib_to_netcdf-2.23.0: /opt/ecmwf/mars-client/bin/grib_to_netcdf -S param -o /cache/data8/adaptor.mars.internal-1634886380.7778172-32629-6-191c70ed-188a-4f22-af6f-625200725beb.nc /cache/tmp/191c70ed-188a-4f22-af6f-625200725beb-adaptor.mars.internal-1634885492.4869852-32629-2-tmp.grib\n",
      "    dimensions(sizes): longitude(129), latitude(129), time(8760)\n",
      "    variables(dimensions): float32 \u001b[4mlongitude\u001b[0m(longitude), float32 \u001b[4mlatitude\u001b[0m(latitude), int32 \u001b[4mtime\u001b[0m(time), int16 \u001b[4mu10\u001b[0m(time,latitude,longitude), int16 \u001b[4mv10\u001b[0m(time,latitude,longitude)\n",
      "    groups: \n",
      "\n",
      "<class 'netCDF4._netCDF4.Variable'>\n",
      "float32 longitude(longitude)\n",
      "    units: degrees_east\n",
      "    long_name: longitude\n",
      "unlimited dimensions: \n",
      "current shape = (129,)\n",
      "filling on, default _FillValue of 9.969209968386869e+36 used\n",
      "\n",
      "<class 'netCDF4._netCDF4.Variable'>\n",
      "float32 latitude(latitude)\n",
      "    units: degrees_north\n",
      "    long_name: latitude\n",
      "unlimited dimensions: \n",
      "current shape = (129,)\n",
      "filling on, default _FillValue of 9.969209968386869e+36 used\n",
      "\n",
      "<class 'netCDF4._netCDF4.Variable'>\n",
      "int32 time(time)\n",
      "    units: hours since 1900-01-01 00:00:00.0\n",
      "    long_name: time\n",
      "    calendar: gregorian\n",
      "unlimited dimensions: \n",
      "current shape = (8760,)\n",
      "filling on, default _FillValue of -2147483647 used\n",
      "\n",
      "<class 'netCDF4._netCDF4.Variable'>\n",
      "int16 u10(time, latitude, longitude)\n",
      "    scale_factor: 0.000819258874479866\n",
      "    add_offset: 1.4262490009338538\n",
      "    _FillValue: -32767\n",
      "    missing_value: -32767\n",
      "    units: m s**-1\n",
      "    long_name: 10 metre U wind component\n",
      "unlimited dimensions: \n",
      "current shape = (8760, 129, 129)\n",
      "filling on\n",
      "<class 'netCDF4._netCDF4.Variable'>\n",
      "int16 v10(time, latitude, longitude)\n",
      "    scale_factor: 0.0008216662207041681\n",
      "    add_offset: 1.4506542303662104\n",
      "    _FillValue: -32767\n",
      "    missing_value: -32767\n",
      "    units: m s**-1\n",
      "    long_name: 10 metre V wind component\n",
      "unlimited dimensions: \n",
      "current shape = (8760, 129, 129)\n",
      "filling on\n",
      "<class 'netCDF4._netCDF4.Variable'>\n",
      "int16 u10(time, latitude, longitude)\n",
      "    scale_factor: 0.000819258874479866\n",
      "    add_offset: 1.4262490009338538\n",
      "    _FillValue: -32767\n",
      "    missing_value: -32767\n",
      "    units: m s**-1\n",
      "    long_name: 10 metre U wind component\n",
      "unlimited dimensions: \n",
      "current shape = (8760, 129, 129)\n",
      "filling on\n"
     ]
    },
    {
     "name": "stderr",
     "output_type": "stream",
     "text": [
      "/root/anaconda3/envs/pyn_env/lib/python3.6/site-packages/ipykernel_launcher.py:3: DeprecationWarning: tostring() is deprecated. Use tobytes() instead.\n",
      "  This is separate from the ipykernel package so we can avoid doing imports until\n",
      "/root/anaconda3/envs/pyn_env/lib/python3.6/site-packages/ipykernel_launcher.py:6: DeprecationWarning: tostring() is deprecated. Use tobytes() instead.\n",
      "  \n",
      "/root/anaconda3/envs/pyn_env/lib/python3.6/site-packages/ipykernel_launcher.py:8: DeprecationWarning: tostring() is deprecated. Use tobytes() instead.\n",
      "  \n"
     ]
    }
   ],
   "source": [
    "################# open file ######################\n",
    "f = nc.Dataset(file_name)\n",
    "print(f)                # gives us information about the variables \n",
    "                        #contained in the file and their dimensions                      \n",
    "for var in f.variables.values():\n",
    "    print(var)          # Metadata for all variables\n",
    "\n",
    "print(f['u10'])          # Metadata of single variable"
   ]
  },
  {
   "cell_type": "code",
   "execution_count": 4,
   "id": "b47955cb",
   "metadata": {},
   "outputs": [],
   "source": [
    "################# read variables  ################\n",
    "u10   = f.variables['u10'][:]\n",
    "lats = f.variables['latitude'][:]\n",
    "lons = f.variables['longitude'][:]\n",
    "time = f.variables['time']\t\t# In the file for the time dimension year has been set as 2010 in all year files\n",
    "\n",
    "#print(lons.min(),\" ,\",lons.max())\n",
    "#print(lats)"
   ]
  },
  {
   "cell_type": "code",
   "execution_count": 5,
   "id": "29213ff5",
   "metadata": {},
   "outputs": [
    {
     "name": "stderr",
     "output_type": "stream",
     "text": [
      "/root/anaconda3/envs/pyn_env/lib/python3.6/site-packages/ipykernel_launcher.py:5: DeprecationWarning: tostring() is deprecated. Use tobytes() instead.\n",
      "  \"\"\"\n",
      "/root/anaconda3/envs/pyn_env/lib/python3.6/site-packages/ipykernel_launcher.py:6: DeprecationWarning: tostring() is deprecated. Use tobytes() instead.\n",
      "  \n"
     ]
    }
   ],
   "source": [
    "##############Subscripting over lat, lon and time###############\n",
    "\n",
    "############Subsetting over time##############\n",
    "st_date=dt.datetime(2019,6,1,0,0)\t# Start date and hour\n",
    "date=nc.num2date(time[:],units=time.units,calendar='standard')\n",
    "istart=nc.date2index(st_date,time,calendar='standard',select='exact')"
   ]
  },
  {
   "cell_type": "code",
   "execution_count": 6,
   "id": "4e3469bd",
   "metadata": {},
   "outputs": [],
   "source": [
    "############Subsetting over lat and lon##############\n",
    "latbounds = [ 7 , 30 ]\t#degrees north\n",
    "lonbounds = [ 66.5 , 99 ] \t# degrees east \n",
    "\n",
    "latselect=np.logical_and(lats>=latbounds[0],lats<=latbounds[1])\n",
    "lonselect=np.logical_and(lons>=lonbounds[0],lons<=lonbounds[1])\n",
    "u10sub=u10[:,latselect,:][:,:,lonselect]\n",
    "U10SUB=u10sub[istart,:,:]"
   ]
  },
  {
   "cell_type": "code",
   "execution_count": 8,
   "id": "7adea132",
   "metadata": {},
   "outputs": [
    {
     "data": {
      "text/plain": [
       "<matplotlib.colorbar.Colorbar at 0x7f2a061f6208>"
      ]
     },
     "execution_count": 8,
     "metadata": {},
     "output_type": "execute_result"
    },
    {
     "data": {
      "image/png": "[encoded data removed]",
      "text/plain": [
       "<Figure size 432x288 with 2 Axes>"
      ]
     },
     "metadata": {
      "needs_background": "light"
     },
     "output_type": "display_data"
    }
   ],
   "source": [
    "#############Plot Resources#######################\n",
    "Lats=lats[latselect]\n",
    "Lons=lons[lonselect]\n",
    "\n",
    "m = plt.axes(projection=ccrs.PlateCarree())\n",
    "m.set_extent([lonbounds[0], lonbounds[1], latbounds[0], latbounds[1]], crs=ccrs.PlateCarree())\n",
    "m.coastlines(resolution='110m')\n",
    "m.add_feature(cartopy.feature.COASTLINE, edgecolor='black')\n",
    "\n",
    "gl=m.gridlines(crs=ccrs.PlateCarree(),draw_labels=True,color='gray',linewidth=1.0)\n",
    "gl.xlabels_top = False\n",
    "gl.ylabels_right = False\n",
    "gl.xformatter = LONGITUDE_FORMATTER\n",
    "gl.yformatter = LATITUDE_FORMATTER\n",
    "\n",
    "c= m.contourf(Lons, Lats, U10SUB, transform=ccrs.PlateCarree(),cmap='jet')\n",
    "plt.title('Wind (m/s)', loc='right')\n",
    "plt.colorbar(c,shrink=0.75)\n"
   ]
  },
  {
   "cell_type": "code",
   "execution_count": null,
   "id": "758166f9",
   "metadata": {},
   "outputs": [],
   "source": []
  }
 ],
 "metadata": {
  "kernelspec": {
   "display_name": "Python 3",
   "language": "python",
   "name": "python3"
  },
  "language_info": {
   "codemirror_mode": {
    "name": "ipython",
    "version": 3
   },
   "file_extension": ".py",
   "mimetype": "text/x-python",
   "name": "python",
   "nbconvert_exporter": "python",
   "pygments_lexer": "ipython3",
   "version": "3.6.7"
  }
 },
 "nbformat": 4,
 "nbformat_minor": 5
}

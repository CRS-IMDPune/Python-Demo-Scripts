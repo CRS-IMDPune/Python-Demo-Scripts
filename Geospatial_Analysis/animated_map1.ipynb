{
 "cells": [
  {
   "cell_type": "code",
   "execution_count": 1,
   "id": "4a52efd2",
   "metadata": {},
   "outputs": [],
   "source": [
    "import folium\n",
    "import folium.plugins as plugins\n",
    "import numpy as np\n",
    "import geopandas\n",
    "shapes=geopandas.read_file('/mnt/e/Python_DEMO_Scripts/plotting/shpfile/Admin2.shp')"
   ]
  },
  {
   "cell_type": "code",
   "execution_count": 2,
   "id": "0d239d4a",
   "metadata": {},
   "outputs": [],
   "source": [
    "np.random.seed(3141592)\n",
    "initial_data = (\n",
    "    np.random.normal(size=(500, 2)) * np.array([[1, 1]]) +\n",
    "    np.array([[18, 78]])\n",
    ")\n",
    "\n",
    "move_data = np.random.normal(size=(500, 2)) * 0.01\n",
    "\n",
    "data = [(initial_data + move_data * i).tolist() for i in range(1000)]\n",
    "\n",
    "weight = 1  # default value\n",
    "for time_entry in data:\n",
    "    for row in time_entry:\n",
    "        row.append(weight)"
   ]
  },
  {
   "cell_type": "code",
   "execution_count": 5,
   "id": "c68cb1b6",
   "metadata": {},
   "outputs": [
    {
     "data": {
      "text/plain": [
       "<folium.features.GeoJson at 0x7f127f05fe10>"
      ]
     },
     "execution_count": 5,
     "metadata": {},
     "output_type": "execute_result"
    }
   ],
   "source": [
    "m = folium.Map([18., 78.], tiles='stamentoner', zoom_start=6)\n",
    "\n",
    "hm = plugins.HeatMapWithTime(data)\n",
    "\n",
    "hm.add_to(m)\n",
    "folium.Marker(\n",
    "    location=[18.5204, 73.8567], # coordinates for the marker (Earth Lab at CU Boulder)\n",
    "    popup='Pune', # pop-up label for the marker\n",
    "    icon=folium.Icon()\n",
    ").add_to(m)\n",
    "folium.GeoJson(data=shapes[\"geometry\"]).add_to(m)\n",
    "\n",
    "\n",
    "#m"
   ]
  },
  {
   "cell_type": "code",
   "execution_count": null,
   "id": "01a57f5b",
   "metadata": {},
   "outputs": [],
   "source": []
  }
 ],
 "metadata": {
  "kernelspec": {
   "display_name": "Python 3",
   "language": "python",
   "name": "python3"
  },
  "language_info": {
   "codemirror_mode": {
    "name": "ipython",
    "version": 3
   },
   "file_extension": ".py",
   "mimetype": "text/x-python",
   "name": "python",
   "nbconvert_exporter": "python",
   "pygments_lexer": "ipython3",
   "version": "3.6.7"
  }
 },
 "nbformat": 4,
 "nbformat_minor": 5
}

{
 "cells": [
  {
   "cell_type": "code",
   "execution_count": 1,
   "id": "b096b942",
   "metadata": {},
   "outputs": [],
   "source": [
    "##### Run the script for creating time series of all districts and then run this script###\n",
    "##### Outputs of time series plot will be attached to the map in here ######\n",
    "##### Keep the png files in the same folder as this script #####\n",
    "import folium\n",
    "import base64\n",
    "import matplotlib.pyplot as plt\n",
    "from folium import IFrame\n",
    "import geopandas as gpd"
   ]
  },
  {
   "cell_type": "code",
   "execution_count": 2,
   "id": "86bb328a",
   "metadata": {},
   "outputs": [
    {
     "name": "stdout",
     "output_type": "stream",
     "text": [
      "0              ALAPPUZHA\n",
      "1              ERNAKULAM\n",
      "2                 IDUKKI\n",
      "3                 KANNUR\n",
      "4               KASARGOD\n",
      "5                 KOLLAM\n",
      "6               KOTTAYAM\n",
      "7              KOZHIKODE\n",
      "8             MALAPPURAM\n",
      "9               PALAKKAD\n",
      "10        PATHANAMTHITTA\n",
      "11    THIRUVANANTHAPURAM\n",
      "12              THRISSUR\n",
      "13               WAYANAD\n",
      "Name: DISTRICT_1, dtype: object\n"
     ]
    }
   ],
   "source": [
    "#########################Read the shape file and create masks###############################\n",
    "fname='/mnt/rc/All Shape File/Kerala district shape file/Kerala districtshape file.shp'           # District shapefile of kerala\n",
    "image_path='/mnt/e/Scripts_python_kerala/scripts/outputs/'\n",
    "shp=gpd.read_file(fname)\n",
    "print(shp['DISTRICT_1'])\n",
    "dist_name=list(shp['DISTRICT_1'])\n",
    "dist_1=list(shp['DISTRICT_1'])\n",
    "indexes=[dist_name.index(x) for x in dist_1]                             # Obtain district indexes\n"
   ]
  },
  {
   "cell_type": "code",
   "execution_count": 3,
   "id": "c1d1b7e5",
   "metadata": {},
   "outputs": [
    {
     "name": "stdout",
     "output_type": "stream",
     "text": [
      "[76.41464278781672, 9.490177822656658]\n"
     ]
    }
   ],
   "source": [
    "x_coords = shp['geometry'].apply(lambda x: x.representative_point().coords[:])\n",
    "x_coords = [coords[0] for coords in x_coords]\n",
    "print(list(x_coords[0]))\n"
   ]
  },
  {
   "cell_type": "code",
   "execution_count": 1,
   "id": "e9e025ba",
   "metadata": {
    "scrolled": false
   },
   "outputs": [],
   "source": [
    "resolution, width, height = 75, 7, 3\n",
    "lat=11\n",
    "lon=76\n",
    "m = folium.Map(location=[lat, lon], zoom_start=7)\n",
    "\n",
    "for i in range(0,len(dist_name)):\n",
    "    loc=list(x_coords[i])\n",
    "    encoded = base64.b64encode(open(image_path+dist_name[i]+'.png', 'rb').read()).decode('utf-8')\n",
    "    html = '<img src=\"data:image/png;base64,{}\">'.format\n",
    "   \n",
    "    iframe = IFrame(html(encoded), width=(width*resolution)+20, height=(height*resolution)+20)\n",
    "    popup = folium.Popup(iframe, max_width=2650)\n",
    "\n",
    "    icon = folium.Icon(color=\"red\", icon=\"ok\")\n",
    "    marker = folium.Marker(location=[loc[1],loc[0]], popup=popup, icon=icon)\n",
    "    marker.add_to(m)\n",
    "    \n",
    "folium.GeoJson(data=shp[\"geometry\"]).add_to(m)\n",
    "m\n"
   ]
  },
  {
   "cell_type": "code",
   "execution_count": null,
   "id": "483283ff",
   "metadata": {},
   "outputs": [],
   "source": []
  },
  {
   "cell_type": "code",
   "execution_count": null,
   "id": "5f88476b",
   "metadata": {},
   "outputs": [],
   "source": []
  }
 ],
 "metadata": {
  "kernelspec": {
   "display_name": "pyn_env",
   "language": "python",
   "name": "pyn_env"
  },
  "language_info": {
   "codemirror_mode": {
    "name": "ipython",
    "version": 3
   },
   "file_extension": ".py",
   "mimetype": "text/x-python",
   "name": "python",
   "nbconvert_exporter": "python",
   "pygments_lexer": "ipython3",
   "version": "3.6.6"
  }
 },
 "nbformat": 4,
 "nbformat_minor": 5
}

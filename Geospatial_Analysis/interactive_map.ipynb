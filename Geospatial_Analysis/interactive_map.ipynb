{
 "cells": [
  {
   "cell_type": "code",
   "execution_count": 1,
   "id": "0e90bf6e",
   "metadata": {},
   "outputs": [],
   "source": [
    "import folium\n",
    "import geopandas"
   ]
  },
  {
   "cell_type": "code",
   "execution_count": 2,
   "id": "c6639f7c",
   "metadata": {},
   "outputs": [],
   "source": [
    "shapes=geopandas.read_file('/mnt/e/Python_DEMO_Scripts/plotting/shpfile/Admin2.shp')\n"
   ]
  },
  {
   "cell_type": "code",
   "execution_count": 4,
   "id": "089f32a2",
   "metadata": {},
   "outputs": [
    {
     "data": {
      "text/plain": [
       "<folium.features.GeoJson at 0x7f2f250b20f0>"
      ]
     },
     "execution_count": 4,
     "metadata": {},
     "output_type": "execute_result"
    }
   ],
   "source": [
    "m = folium.Map(location=[20.0150, 78.0],tiles = 'Stamen Terrain')\n",
    "folium.Marker(\n",
    "    location=[18.5204, 73.8567], # coordinates for the marker (Earth Lab at CU Boulder)\n",
    "    popup='Pune', # pop-up label for the marker\n",
    "    icon=folium.Icon()\n",
    ").add_to(m)\n",
    "\n",
    "folium.GeoJson(data=shapes[\"geometry\"]).add_to(m)\n",
    "\n"
   ]
  },
  {
   "cell_type": "code",
   "execution_count": null,
   "id": "986b7b14",
   "metadata": {},
   "outputs": [],
   "source": [
    "# Display m\n",
    "m"
   ]
  }
 ],
 "metadata": {
  "kernelspec": {
   "display_name": "Python 3",
   "language": "python",
   "name": "python3"
  },
  "language_info": {
   "codemirror_mode": {
    "name": "ipython",
    "version": 3
   },
   "file_extension": ".py",
   "mimetype": "text/x-python",
   "name": "python",
   "nbconvert_exporter": "python",
   "pygments_lexer": "ipython3",
   "version": "3.6.7"
  }
 },
 "nbformat": 4,
 "nbformat_minor": 5
}

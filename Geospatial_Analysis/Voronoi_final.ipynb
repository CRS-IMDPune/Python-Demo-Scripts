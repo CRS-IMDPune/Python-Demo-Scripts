{
 "cells": [
  {
   "cell_type": "markdown",
   "metadata": {},
   "source": [
    "# Calculating the Voronoi weighted polygon of a district using points from gridded data"
   ]
  },
  {
   "cell_type": "code",
   "execution_count": 1,
   "metadata": {},
   "outputs": [],
   "source": [
    "import numpy as np\n",
    "import xarray as xr\n",
    "import pandas as pd\n",
    "import geopandas as gpd\n",
    "import pyproj\n",
    "import datetime as dt\n",
    "from scipy.spatial import Voronoi\n",
    "\n",
    "import matplotlib.pyplot as plt\n",
    "from functools import partial\n",
    "\n",
    "from shapely.geometry import Point, shape, Polygon\n",
    "from shapely import geometry\n",
    "from shapely.ops import transform\n",
    "\n",
    "from geovoronoi.plotting import subplot_for_map, plot_voronoi_polys_with_points_in_area,plot_voronoi_polys,plot_points\n",
    "from geovoronoi import voronoi_regions_from_coords, points_to_coords,points_to_region\n",
    "from geovoronoi._voronoi import region_polygons_from_voronoi\n"
   ]
  },
  {
   "cell_type": "code",
   "execution_count": 5,
   "metadata": {},
   "outputs": [],
   "source": [
    "##############################Read the shape file for the district#############################\n",
    "#boundary=gpd.read_file(\"R:\\All Shape File\\India District\\India updated district boundary 2020.shp\")\n",
    "boundary=gpd.read_file(\"/mnt/r/All Shape File/India District/India updated district boundary 2020.shp\")\n",
    "shp=boundary[boundary.DISTRICT_1 == 'BHOPAL']\n",
    "lon_min,lat_min,lon_max,lat_max=shp.total_bounds\n",
    "total_area=(shp['Area(sqm)'])/10**6"
   ]
  },
  {
   "cell_type": "code",
   "execution_count": 15,
   "metadata": {},
   "outputs": [],
   "source": [
    "######################Read any gridded data of required resolution############################# \n",
    "#da=xr.open_dataset('S:/IMD_rainfall_0.25/_Clim_Pred_LRF_New_RF25_IMD0p252020.nc')\n",
    "da=xr.open_mfdataset('/mnt/rc/IMD_rainfall_0.25/_Clim_Pred_LRF_New_RF25_IMD0p25201*.nc')\n",
    "da\n",
    "da_ci=(da.sel(LATITUDE= slice(lat_min,lat_max),LONGITUDE = slice(lon_min,lon_max)))\n",
    "\n",
    "lat=da_ci.LATITUDE.values\n",
    "lon=da_ci.LONGITUDE.values\n",
    "time=da_ci.TIME.values\n",
    "lats,lons=np.meshgrid(lat,lon)"
   ]
  },
  {
   "cell_type": "code",
   "execution_count": 16,
   "metadata": {},
   "outputs": [
    {
     "name": "stderr",
     "output_type": "stream",
     "text": [
      "/home/lekshmi/anaconda3/envs/pyn_env/lib/python3.6/site-packages/pyproj/crs/crs.py:53: FutureWarning: '+init=<authority>:<code>' syntax is deprecated. '<authority>:<code>' is the preferred initialization method. When making the change, be mindful of axis order changes: https://pyproj4.github.io/pyproj/stable/gotchas.html#axis-order-changes-in-proj-6\n",
      "  return _prepare_from_string(\" \".join(pjargs))\n"
     ]
    }
   ],
   "source": [
    "#########################Create the Voronoi polygon with the coords and shape file################\n",
    "df = pd.DataFrame({'Latitude' : lats.flatten(), 'Longitude' : lons.flatten()})\n",
    "gdf=gpd.GeoDataFrame(df, geometry=gpd.points_from_xy(df.Longitude,df.Latitude))\n",
    "gdf\n",
    "gdf.crs = {'init' :'epsg:3395'}\n",
    "shp.crs = {'init' :'epsg:3395'}\n",
    "boundary_shape = shp.geometry.unary_union\n",
    "coords = points_to_coords(gdf.geometry)\n",
    "poly_shapes, pts = voronoi_regions_from_coords(coords, boundary_shape)"
   ]
  },
  {
   "cell_type": "code",
   "execution_count": 17,
   "metadata": {},
   "outputs": [
    {
     "data": {
      "text/plain": [
       "{1: 0, 2: 1, 0: 2, 4: 3, 3: 4, 5: 5}"
      ]
     },
     "execution_count": 17,
     "metadata": {},
     "output_type": "execute_result"
    }
   ],
   "source": [
    "########################Store the point ID and polygon ID in variables#############################\n",
    "pts_region=points_to_region(pts)\n",
    "pts_id=np.empty((6),dtype='int32')\n",
    "poly_id=np.empty((6),dtype='int32')\n",
    "i=0\n",
    "for key, value in pts_region.items():\n",
    "    pts_id[i]=key\n",
    "    poly_id[i]=value\n",
    "    i+=1\n",
    "\n",
    "pts_region"
   ]
  },
  {
   "cell_type": "code",
   "execution_count": 18,
   "metadata": {},
   "outputs": [
    {
     "name": "stderr",
     "output_type": "stream",
     "text": [
      "/home/lekshmi/anaconda3/envs/pyn_env/lib/python3.6/site-packages/pyproj/crs/crs.py:294: FutureWarning: '+init=<authority>:<code>' syntax is deprecated. '<authority>:<code>' is the preferred initialization method. When making the change, be mindful of axis order changes: https://pyproj4.github.io/pyproj/stable/gotchas.html#axis-order-changes-in-proj-6\n",
      "  projstring = _prepare_from_string(\" \".join((projstring, projkwargs)))\n",
      "/home/lekshmi/anaconda3/envs/pyn_env/lib/python3.6/site-packages/pyproj/crs/crs.py:53: FutureWarning: '+init=<authority>:<code>' syntax is deprecated. '<authority>:<code>' is the preferred initialization method. When making the change, be mindful of axis order changes: https://pyproj4.github.io/pyproj/stable/gotchas.html#axis-order-changes-in-proj-6\n",
      "  return _prepare_from_string(\" \".join(pjargs))\n",
      "/home/lekshmi/anaconda3/envs/pyn_env/lib/python3.6/site-packages/pyproj/crs/crs.py:294: FutureWarning: '+init=<authority>:<code>' syntax is deprecated. '<authority>:<code>' is the preferred initialization method. When making the change, be mindful of axis order changes: https://pyproj4.github.io/pyproj/stable/gotchas.html#axis-order-changes-in-proj-6\n",
      "  projstring = _prepare_from_string(\" \".join((projstring, projkwargs)))\n",
      "/home/lekshmi/anaconda3/envs/pyn_env/lib/python3.6/site-packages/pyproj/crs/crs.py:53: FutureWarning: '+init=<authority>:<code>' syntax is deprecated. '<authority>:<code>' is the preferred initialization method. When making the change, be mindful of axis order changes: https://pyproj4.github.io/pyproj/stable/gotchas.html#axis-order-changes-in-proj-6\n",
      "  return _prepare_from_string(\" \".join(pjargs))\n",
      "/home/lekshmi/anaconda3/envs/pyn_env/lib/python3.6/site-packages/pyproj/crs/crs.py:294: FutureWarning: '+init=<authority>:<code>' syntax is deprecated. '<authority>:<code>' is the preferred initialization method. When making the change, be mindful of axis order changes: https://pyproj4.github.io/pyproj/stable/gotchas.html#axis-order-changes-in-proj-6\n",
      "  projstring = _prepare_from_string(\" \".join((projstring, projkwargs)))\n",
      "/home/lekshmi/anaconda3/envs/pyn_env/lib/python3.6/site-packages/pyproj/crs/crs.py:53: FutureWarning: '+init=<authority>:<code>' syntax is deprecated. '<authority>:<code>' is the preferred initialization method. When making the change, be mindful of axis order changes: https://pyproj4.github.io/pyproj/stable/gotchas.html#axis-order-changes-in-proj-6\n",
      "  return _prepare_from_string(\" \".join(pjargs))\n",
      "/home/lekshmi/anaconda3/envs/pyn_env/lib/python3.6/site-packages/pyproj/crs/crs.py:294: FutureWarning: '+init=<authority>:<code>' syntax is deprecated. '<authority>:<code>' is the preferred initialization method. When making the change, be mindful of axis order changes: https://pyproj4.github.io/pyproj/stable/gotchas.html#axis-order-changes-in-proj-6\n",
      "  projstring = _prepare_from_string(\" \".join((projstring, projkwargs)))\n",
      "/home/lekshmi/anaconda3/envs/pyn_env/lib/python3.6/site-packages/pyproj/crs/crs.py:53: FutureWarning: '+init=<authority>:<code>' syntax is deprecated. '<authority>:<code>' is the preferred initialization method. When making the change, be mindful of axis order changes: https://pyproj4.github.io/pyproj/stable/gotchas.html#axis-order-changes-in-proj-6\n",
      "  return _prepare_from_string(\" \".join(pjargs))\n",
      "/home/lekshmi/anaconda3/envs/pyn_env/lib/python3.6/site-packages/pyproj/crs/crs.py:294: FutureWarning: '+init=<authority>:<code>' syntax is deprecated. '<authority>:<code>' is the preferred initialization method. When making the change, be mindful of axis order changes: https://pyproj4.github.io/pyproj/stable/gotchas.html#axis-order-changes-in-proj-6\n",
      "  projstring = _prepare_from_string(\" \".join((projstring, projkwargs)))\n",
      "/home/lekshmi/anaconda3/envs/pyn_env/lib/python3.6/site-packages/pyproj/crs/crs.py:53: FutureWarning: '+init=<authority>:<code>' syntax is deprecated. '<authority>:<code>' is the preferred initialization method. When making the change, be mindful of axis order changes: https://pyproj4.github.io/pyproj/stable/gotchas.html#axis-order-changes-in-proj-6\n",
      "  return _prepare_from_string(\" \".join(pjargs))\n",
      "/home/lekshmi/anaconda3/envs/pyn_env/lib/python3.6/site-packages/pyproj/crs/crs.py:294: FutureWarning: '+init=<authority>:<code>' syntax is deprecated. '<authority>:<code>' is the preferred initialization method. When making the change, be mindful of axis order changes: https://pyproj4.github.io/pyproj/stable/gotchas.html#axis-order-changes-in-proj-6\n",
      "  projstring = _prepare_from_string(\" \".join((projstring, projkwargs)))\n",
      "/home/lekshmi/anaconda3/envs/pyn_env/lib/python3.6/site-packages/pyproj/crs/crs.py:53: FutureWarning: '+init=<authority>:<code>' syntax is deprecated. '<authority>:<code>' is the preferred initialization method. When making the change, be mindful of axis order changes: https://pyproj4.github.io/pyproj/stable/gotchas.html#axis-order-changes-in-proj-6\n",
      "  return _prepare_from_string(\" \".join(pjargs))\n",
      "/home/lekshmi/anaconda3/envs/pyn_env/lib/python3.6/site-packages/pyproj/crs/crs.py:294: FutureWarning: '+init=<authority>:<code>' syntax is deprecated. '<authority>:<code>' is the preferred initialization method. When making the change, be mindful of axis order changes: https://pyproj4.github.io/pyproj/stable/gotchas.html#axis-order-changes-in-proj-6\n",
      "  projstring = _prepare_from_string(\" \".join((projstring, projkwargs)))\n",
      "/home/lekshmi/anaconda3/envs/pyn_env/lib/python3.6/site-packages/pyproj/crs/crs.py:53: FutureWarning: '+init=<authority>:<code>' syntax is deprecated. '<authority>:<code>' is the preferred initialization method. When making the change, be mindful of axis order changes: https://pyproj4.github.io/pyproj/stable/gotchas.html#axis-order-changes-in-proj-6\n",
      "  return _prepare_from_string(\" \".join(pjargs))\n",
      "/home/lekshmi/anaconda3/envs/pyn_env/lib/python3.6/site-packages/pyproj/crs/crs.py:294: FutureWarning: '+init=<authority>:<code>' syntax is deprecated. '<authority>:<code>' is the preferred initialization method. When making the change, be mindful of axis order changes: https://pyproj4.github.io/pyproj/stable/gotchas.html#axis-order-changes-in-proj-6\n",
      "  projstring = _prepare_from_string(\" \".join((projstring, projkwargs)))\n",
      "/home/lekshmi/anaconda3/envs/pyn_env/lib/python3.6/site-packages/pyproj/crs/crs.py:53: FutureWarning: '+init=<authority>:<code>' syntax is deprecated. '<authority>:<code>' is the preferred initialization method. When making the change, be mindful of axis order changes: https://pyproj4.github.io/pyproj/stable/gotchas.html#axis-order-changes-in-proj-6\n",
      "  return _prepare_from_string(\" \".join(pjargs))\n",
      "/home/lekshmi/anaconda3/envs/pyn_env/lib/python3.6/site-packages/pyproj/crs/crs.py:294: FutureWarning: '+init=<authority>:<code>' syntax is deprecated. '<authority>:<code>' is the preferred initialization method. When making the change, be mindful of axis order changes: https://pyproj4.github.io/pyproj/stable/gotchas.html#axis-order-changes-in-proj-6\n",
      "  projstring = _prepare_from_string(\" \".join((projstring, projkwargs)))\n",
      "/home/lekshmi/anaconda3/envs/pyn_env/lib/python3.6/site-packages/pyproj/crs/crs.py:53: FutureWarning: '+init=<authority>:<code>' syntax is deprecated. '<authority>:<code>' is the preferred initialization method. When making the change, be mindful of axis order changes: https://pyproj4.github.io/pyproj/stable/gotchas.html#axis-order-changes-in-proj-6\n",
      "  return _prepare_from_string(\" \".join(pjargs))\n",
      "/home/lekshmi/anaconda3/envs/pyn_env/lib/python3.6/site-packages/pyproj/crs/crs.py:294: FutureWarning: '+init=<authority>:<code>' syntax is deprecated. '<authority>:<code>' is the preferred initialization method. When making the change, be mindful of axis order changes: https://pyproj4.github.io/pyproj/stable/gotchas.html#axis-order-changes-in-proj-6\n",
      "  projstring = _prepare_from_string(\" \".join((projstring, projkwargs)))\n",
      "/home/lekshmi/anaconda3/envs/pyn_env/lib/python3.6/site-packages/pyproj/crs/crs.py:53: FutureWarning: '+init=<authority>:<code>' syntax is deprecated. '<authority>:<code>' is the preferred initialization method. When making the change, be mindful of axis order changes: https://pyproj4.github.io/pyproj/stable/gotchas.html#axis-order-changes-in-proj-6\n",
      "  return _prepare_from_string(\" \".join(pjargs))\n",
      "/home/lekshmi/anaconda3/envs/pyn_env/lib/python3.6/site-packages/pyproj/crs/crs.py:294: FutureWarning: '+init=<authority>:<code>' syntax is deprecated. '<authority>:<code>' is the preferred initialization method. When making the change, be mindful of axis order changes: https://pyproj4.github.io/pyproj/stable/gotchas.html#axis-order-changes-in-proj-6\n",
      "  projstring = _prepare_from_string(\" \".join((projstring, projkwargs)))\n",
      "/home/lekshmi/anaconda3/envs/pyn_env/lib/python3.6/site-packages/pyproj/crs/crs.py:53: FutureWarning: '+init=<authority>:<code>' syntax is deprecated. '<authority>:<code>' is the preferred initialization method. When making the change, be mindful of axis order changes: https://pyproj4.github.io/pyproj/stable/gotchas.html#axis-order-changes-in-proj-6\n",
      "  return _prepare_from_string(\" \".join(pjargs))\n",
      "/home/lekshmi/anaconda3/envs/pyn_env/lib/python3.6/site-packages/pyproj/crs/crs.py:294: FutureWarning: '+init=<authority>:<code>' syntax is deprecated. '<authority>:<code>' is the preferred initialization method. When making the change, be mindful of axis order changes: https://pyproj4.github.io/pyproj/stable/gotchas.html#axis-order-changes-in-proj-6\n",
      "  projstring = _prepare_from_string(\" \".join((projstring, projkwargs)))\n"
     ]
    }
   ],
   "source": [
    "####################Attain the coordinates and their associated polygons####################\n",
    "#####################Calculate the fractional area of each polygon##########################\n",
    "ndim=2\n",
    "COORDS=np.empty((len(coords),ndim),dtype='float32')\n",
    "Area=np.empty(len(coords),dtype='float32')\n",
    "projected_area=np.empty(len(coords))\n",
    "fraction_area=np.empty(len(coords))\n",
    "for i in range(len(coords)):\n",
    "    k=pts_id[i]\n",
    "    COORDS[i][0]=coords[k][0]\n",
    "    COORDS[i][1]=coords[k][1]\n",
    "for j in range(len(coords)):\n",
    "    #k=poly_id[j]\n",
    "    #Area[j]=poly_shapes[k].area\n",
    "    s = shape(poly_shapes[j])\n",
    "    proj = partial(pyproj.transform, pyproj.Proj(init='epsg:4326'),\n",
    "               pyproj.Proj(init='epsg:3857'))\n",
    "\n",
    "    s_new = transform(proj, s)\n",
    "    projected_area[j] = (transform(proj, s).area)/10**6\n",
    "    fraction_area[j]=projected_area[j]/total_area\n",
    "    del s\n",
    "    del proj\n",
    "    del s_new"
   ]
  },
  {
   "cell_type": "code",
   "execution_count": 19,
   "metadata": {},
   "outputs": [
    {
     "data": {
      "text/html": [
       "<div>\n",
       "<style scoped>\n",
       "    .dataframe tbody tr th:only-of-type {\n",
       "        vertical-align: middle;\n",
       "    }\n",
       "\n",
       "    .dataframe tbody tr th {\n",
       "        vertical-align: top;\n",
       "    }\n",
       "\n",
       "    .dataframe thead th {\n",
       "        text-align: right;\n",
       "    }\n",
       "</style>\n",
       "<table border=\"1\" class=\"dataframe\">\n",
       "  <thead>\n",
       "    <tr style=\"text-align: right;\">\n",
       "      <th></th>\n",
       "      <th>Point_ID</th>\n",
       "      <th>Poly_ID</th>\n",
       "      <th>Point_Lon</th>\n",
       "      <th>Point_Lat</th>\n",
       "      <th>Poly_area_km2</th>\n",
       "      <th>fraction</th>\n",
       "    </tr>\n",
       "  </thead>\n",
       "  <tbody>\n",
       "    <tr>\n",
       "      <th>0</th>\n",
       "      <td>1</td>\n",
       "      <td>0</td>\n",
       "      <td>77.25</td>\n",
       "      <td>23.50</td>\n",
       "      <td>332.971607</td>\n",
       "      <td>0.109883</td>\n",
       "    </tr>\n",
       "    <tr>\n",
       "      <th>1</th>\n",
       "      <td>2</td>\n",
       "      <td>1</td>\n",
       "      <td>77.25</td>\n",
       "      <td>23.75</td>\n",
       "      <td>608.526815</td>\n",
       "      <td>0.200817</td>\n",
       "    </tr>\n",
       "    <tr>\n",
       "      <th>2</th>\n",
       "      <td>0</td>\n",
       "      <td>2</td>\n",
       "      <td>77.25</td>\n",
       "      <td>23.25</td>\n",
       "      <td>606.083001</td>\n",
       "      <td>0.200011</td>\n",
       "    </tr>\n",
       "    <tr>\n",
       "      <th>3</th>\n",
       "      <td>4</td>\n",
       "      <td>3</td>\n",
       "      <td>77.50</td>\n",
       "      <td>23.50</td>\n",
       "      <td>492.595086</td>\n",
       "      <td>0.162559</td>\n",
       "    </tr>\n",
       "    <tr>\n",
       "      <th>4</th>\n",
       "      <td>3</td>\n",
       "      <td>4</td>\n",
       "      <td>77.50</td>\n",
       "      <td>23.25</td>\n",
       "      <td>768.059123</td>\n",
       "      <td>0.253464</td>\n",
       "    </tr>\n",
       "    <tr>\n",
       "      <th>5</th>\n",
       "      <td>5</td>\n",
       "      <td>5</td>\n",
       "      <td>77.50</td>\n",
       "      <td>23.75</td>\n",
       "      <td>495.361942</td>\n",
       "      <td>0.163472</td>\n",
       "    </tr>\n",
       "  </tbody>\n",
       "</table>\n",
       "</div>"
      ],
      "text/plain": [
       "   Point_ID  Poly_ID  Point_Lon  Point_Lat  Poly_area_km2  fraction\n",
       "0         1        0      77.25      23.50     332.971607  0.109883\n",
       "1         2        1      77.25      23.75     608.526815  0.200817\n",
       "2         0        2      77.25      23.25     606.083001  0.200011\n",
       "3         4        3      77.50      23.50     492.595086  0.162559\n",
       "4         3        4      77.50      23.25     768.059123  0.253464\n",
       "5         5        5      77.50      23.75     495.361942  0.163472"
      ]
     },
     "execution_count": 19,
     "metadata": {},
     "output_type": "execute_result"
    }
   ],
   "source": [
    "###########################Store all the IDs, coordinates and fractional area in a dataframe################\n",
    "fract_area=pd.DataFrame()\n",
    "fract_area['Point_ID']=pts_id\n",
    "fract_area['Poly_ID']=poly_id\n",
    "fract_area['Point_Lon']=COORDS[:,0]\n",
    "fract_area['Point_Lat']=COORDS[:,1]\n",
    "fract_area['Poly_area_km2']=projected_area\n",
    "fract_area['fraction']=fraction_area\n",
    "fract_area"
   ]
  },
  {
   "cell_type": "code",
   "execution_count": 20,
   "metadata": {},
   "outputs": [
    {
     "data": {
      "text/plain": [
       "array([0., 0., 0., ..., 0., 0., 0.])"
      ]
     },
     "execution_count": 20,
     "metadata": {},
     "output_type": "execute_result"
    }
   ],
   "source": [
    "##########################Obtain the district rainfall time series using info from above dataframe###############\n",
    "rain=da.RAINFALL\n",
    "rain\n",
    "accum_rf=np.full((len(time)),fill_value=0.0)\n",
    "for j in range (len(time)):\n",
    "    for i in range(len(coords)):\n",
    "        ind_lat=coords[i,1]\n",
    "        ind_lon=coords[i,0]\n",
    "        rain_p=rain.sel(TIME=time[j],LATITUDE=ind_lat,LONGITUDE = ind_lon).values\n",
    "        area_p=fract_area.fraction[fract_area.Point_ID == i].values\n",
    "        accum_rf[j]=accum_rf[j]+rain_p*area_p\n",
    "        del rain_p\n",
    "        del area_p\n",
    "\n",
    "accum_rf"
   ]
  },
  {
   "cell_type": "code",
   "execution_count": 21,
   "metadata": {},
   "outputs": [
    {
     "name": "stderr",
     "output_type": "stream",
     "text": [
      "/home/lekshmi/anaconda3/envs/pyn_env/lib/python3.6/site-packages/descartes/patch.py:65: ShapelyDeprecationWarning: The array interface is deprecated and will no longer work in Shapely 2.0. Convert the '.coords' to a numpy array instead.\n",
      "  for t in polygon])\n",
      "/home/lekshmi/anaconda3/envs/pyn_env/lib/python3.6/site-packages/descartes/patch.py:65: ShapelyDeprecationWarning: The array interface is deprecated and will no longer work in Shapely 2.0. Convert the '.coords' to a numpy array instead.\n",
      "  for t in polygon])\n"
     ]
    },
    {
     "data": {
      "image/png": "[encoded data removed]",
      "text/plain": [
       "<Figure size 432x288 with 1 Axes>"
      ]
     },
     "metadata": {
      "needs_background": "light"
     },
     "output_type": "display_data"
    }
   ],
   "source": [
    "###########################Plotting the Voronoi polygon and the coordinates########################################\n",
    "fig, ax = subplot_for_map(show_x_axis=True,show_y_axis=True)\n",
    "#plot_voronoi_polys(ax, region_polys, color=None, edgecolor=None, labels=None, label_fontsize=10, label_color=None, **kwargs)\n",
    "#plot_voronoi_polys(ax, poly,color=['red','blue','green','yellow'],edgecolor='black')\n",
    "#plot_points(ax,coords,color='black')\n",
    "plot_voronoi_polys_with_points_in_area(ax, boundary_shape, poly_shapes, coords, \n",
    "                                    pts, voronoi_and_points_cmap='tab20', points_markersize=20, points_marker='*',point_labels=[0,1,2,3,4,5],\n",
    "                                    point_label_fontsize=10,voronoi_labels=list(poly_id),voronoi_label_fontsize=13, voronoi_label_color='black',\n",
    "                                    points_color='black')\n",
    "plt.show()"
   ]
  },
  {
   "cell_type": "code",
   "execution_count": 29,
   "metadata": {},
   "outputs": [
    {
     "data": {
      "image/png": "[encoded data removed]",
      "text/plain": [
       "<Figure size 1080x648 with 1 Axes>"
      ]
     },
     "metadata": {
      "needs_background": "light"
     },
     "output_type": "display_data"
    }
   ],
   "source": [
    "################################Plotting the time series for a district#############################\n",
    "Time=da_ci['TIME'].dt.strftime('%m/%d/%Y')\n",
    "x=range(len(time))\n",
    "\n",
    "fig=plt.figure(figsize=(15,9))\n",
    "plt.plot(x,accum_rf,linewidth=2.0,linestyle='-',color='b')\t# marker='o'\n",
    "#plt.axhline(y=0.0, color='red', linestyle='--')\n",
    "plt.xlabel('Days')\n",
    "plt.ylim(0,180)\n",
    "#plt.rc('xtick',labelsize=8)\n",
    "plt.rc('ytick',labelsize=15)\n",
    "plt.rc('axes', titlesize=20) #fontsize of the title\n",
    "plt.rc('axes', labelsize=20) # Axes title\n",
    "plt.ylabel('District rainfall (mm)')\n",
    "plt.title('Bhopal-Year 2020')\n",
    "#plt.xticks(x,Time.values,rotation=60)\n",
    "plt.savefig('Voronoi_weighted_rainfall_bhopal_time_series.png')"
   ]
  },
  {
   "cell_type": "code",
   "execution_count": 23,
   "metadata": {},
   "outputs": [
    {
     "data": {
      "text/plain": [
       "3652"
      ]
     },
     "execution_count": 23,
     "metadata": {},
     "output_type": "execute_result"
    }
   ],
   "source": [
    "len(time)"
   ]
  },
  {
   "cell_type": "code",
   "execution_count": 27,
   "metadata": {},
   "outputs": [],
   "source": [
    "DF = pd.DataFrame()\n",
    "DF['DATE']=time\n",
    "DF['District_rainfall_mm']=accum_rf\n",
    "DF.to_csv(\"Bhopal_voronoi_rf.csv\")"
   ]
  },
  {
   "cell_type": "code",
   "execution_count": null,
   "metadata": {},
   "outputs": [],
   "source": []
  }
 ],
 "metadata": {
  "interpreter": {
   "hash": "790b9129d1cd9c3506d175c861ce809b6c144f4b9131bcd5632536cdab9d9bb9"
  },
  "kernelspec": {
   "display_name": "Python 3",
   "language": "python",
   "name": "python3"
  },
  "language_info": {
   "codemirror_mode": {
    "name": "ipython",
    "version": 3
   },
   "file_extension": ".py",
   "mimetype": "text/x-python",
   "name": "python",
   "nbconvert_exporter": "python",
   "pygments_lexer": "ipython3",
   "version": "3.6.10"
  }
 },
 "nbformat": 4,
 "nbformat_minor": 2
}
